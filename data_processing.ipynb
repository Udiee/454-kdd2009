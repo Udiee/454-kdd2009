{
 "cells": [
  {
   "cell_type": "code",
   "execution_count": 1,
   "metadata": {
    "collapsed": true
   },
   "outputs": [],
   "source": [
    "import numpy as np\n",
    "import pandas as pd"
   ]
  },
  {
   "cell_type": "code",
   "execution_count": 2,
   "metadata": {
    "collapsed": true
   },
   "outputs": [],
   "source": [
    "fp = 'C:/Users/Jay/Documents/Northwestern/predict_454/KDD_Cup_2009/'"
   ]
  },
  {
   "cell_type": "code",
   "execution_count": 3,
   "metadata": {
    "collapsed": false
   },
   "outputs": [],
   "source": [
    "df = pd.read_csv(fp + 'orange_small_train.data', sep = '\\t')"
   ]
  },
  {
   "cell_type": "code",
   "execution_count": 19,
   "metadata": {
    "collapsed": false,
    "scrolled": false
   },
   "outputs": [],
   "source": [
    "def data_munging(var, vname):\n",
    "    # qualitative variables\n",
    "    if var.dtype == np.object:\n",
    "        # this threshold will be used to decide whether or not\n",
    "        # a value will be grouped into 'other'\n",
    "        threshold = len(var)*0.01\n",
    "        # replace NA values with 'missing'\n",
    "        var = var.fillna(vname + '_missing')\n",
    "        # get the count of times each value appears\n",
    "        counts = var.value_counts()        \n",
    "        # add values to be remapped to other if their frequency\n",
    "        # is less than the threshold\n",
    "        remapping = {}\n",
    "        for c in counts.index:\n",
    "            if counts[c] < threshold:\n",
    "                remapping[c] = vname + '_other'\n",
    "                \n",
    "        # if some values need to be grouped into other do so\n",
    "        if len(remapping) > 0:\n",
    "            var = var.map(lambda x: remapping[x] if x in remapping else x)\n",
    "        \n",
    "        return [pd.Series(var, name = vname)]\n",
    "    \n",
    "    # quantitative variables            \n",
    "    else:\n",
    "        missing = pd.Series(pd.isnull(var),\n",
    "                            name = vname + '_missing')\n",
    "        # check to see if a large number of values are missing\n",
    "        if missing.sum() < len(var) * 0.6:\n",
    "            # replace missing values with median\n",
    "            var = pd.Series(var.fillna(var.median()), name = vname)\n",
    "            return [missing.astype(int), var]\n",
    "        else:\n",
    "            percentiles = []\n",
    "            # create the qualitative versions of original\n",
    "            qual = np.zeros(len(var))\n",
    "            # find the percentiles \n",
    "            for i in xrange(0, 81, 20):\n",
    "                percentiles.append(np.percentile(var, i))\n",
    "                \n",
    "            # add 1 to each observation that is greater than p\n",
    "            # this creates a vector where the observations in the\n",
    "            # top 20 percent have a value of 5 \n",
    "            # then 4 ... 0 down to through lower values\n",
    "            for p in percentiles:\n",
    "                qual = qual + (var > p).astype(int)\n",
    "                \n",
    "            # turn the numbers into strings, add original name\n",
    "            qual = vname + '_' + qual.map(str)\n",
    "            # ID missing variables\n",
    "            qual.loc[missing] = vname + '_missing'\n",
    "            \n",
    "            return [pd.Series(qual,name = vname + '_percentiles')]"
   ]
  },
  {
   "cell_type": "code",
   "execution_count": 20,
   "metadata": {
    "collapsed": false
   },
   "outputs": [],
   "source": [
    "processed = []\n",
    "for col in df:\n",
    "    processed += data_munging(df[col], col)"
   ]
  },
  {
   "cell_type": "code",
   "execution_count": 21,
   "metadata": {
    "collapsed": false
   },
   "outputs": [],
   "source": [
    "processed_df = pd.DataFrame(processed).T"
   ]
  },
  {
   "cell_type": "code",
   "execution_count": 22,
   "metadata": {
    "collapsed": false
   },
   "outputs": [],
   "source": [
    "df.to_csv(fp + 'csv_data.csv', index = False)\n",
    "processed_df.to_csv(fp + 'processed.csv', index = False)"
   ]
  }
 ],
 "metadata": {
  "kernelspec": {
   "display_name": "Python 2",
   "language": "python",
   "name": "python2"
  },
  "language_info": {
   "codemirror_mode": {
    "name": "ipython",
    "version": 2
   },
   "file_extension": ".py",
   "mimetype": "text/x-python",
   "name": "python",
   "nbconvert_exporter": "python",
   "pygments_lexer": "ipython2",
   "version": "2.7.8"
  }
 },
 "nbformat": 4,
 "nbformat_minor": 0
}
