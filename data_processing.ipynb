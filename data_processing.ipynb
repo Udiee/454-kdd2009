{
 "cells": [
  {
   "cell_type": "code",
   "execution_count": 1,
   "metadata": {
    "collapsed": true
   },
   "outputs": [],
   "source": [
    "import numpy as np\n",
    "import pandas as pd"
   ]
  },
  {
   "cell_type": "code",
   "execution_count": 2,
   "metadata": {
    "collapsed": true
   },
   "outputs": [],
   "source": [
    "fp = 'C:/Users/jay.swinney/Downloads/KDD_Cup_2009/KDD_Cup_2009/orange_small_train'"
   ]
  },
  {
   "cell_type": "code",
   "execution_count": 4,
   "metadata": {
    "collapsed": false
   },
   "outputs": [],
   "source": [
    "df = pd.read_csv(fp + '/orange_small_train.data', sep = '\\t')"
   ]
  },
  {
   "cell_type": "code",
   "execution_count": 30,
   "metadata": {
    "collapsed": false
   },
   "outputs": [
    {
     "name": "stdout",
     "output_type": "stream",
     "text": [
      "{'sk2h': 'other', 'oJmt': 'other'}\n",
      "0        missing\n",
      "1        missing\n",
      "2           am7c\n",
      "3        missing\n",
      "4           mj86\n",
      "5           am7c\n",
      "6           am7c\n",
      "7        missing\n",
      "8           am7c\n",
      "9        missing\n",
      "10          mj86\n",
      "11       missing\n",
      "12          mj86\n",
      "13       missing\n",
      "14       missing\n",
      "15         other\n",
      "16          am7c\n",
      "17          am7c\n",
      "18       missing\n",
      "19       missing\n",
      "20       missing\n",
      "21       missing\n",
      "22          mj86\n",
      "23       missing\n",
      "24       missing\n",
      "25       missing\n",
      "26       missing\n",
      "27          mj86\n",
      "28          am7c\n",
      "29       missing\n",
      "          ...   \n",
      "49970    missing\n",
      "49971    missing\n",
      "49972       mj86\n",
      "49973    missing\n",
      "49974    missing\n",
      "49975    missing\n",
      "49976       mj86\n",
      "49977       mj86\n",
      "49978       am7c\n",
      "49979    missing\n",
      "49980       am7c\n",
      "49981    missing\n",
      "49982    missing\n",
      "49983    missing\n",
      "49984    missing\n",
      "49985    missing\n",
      "49986       am7c\n",
      "49987    missing\n",
      "49988    missing\n",
      "49989       am7c\n",
      "49990       mj86\n",
      "49991    missing\n",
      "49992       mj86\n",
      "49993    missing\n",
      "49994    missing\n",
      "49995    missing\n",
      "49996       am7c\n",
      "49997    missing\n",
      "49998    missing\n",
      "49999    missing\n",
      "Name: Var229, dtype: object\n"
     ]
    }
   ],
   "source": [
    "def preprocess(var, name):\n",
    "    # qualitative variables\n",
    "    if var.dtype == np.object:\n",
    "        # this threshold will be used to decide whether or not\n",
    "        # a value will be grouped into 'other'\n",
    "        threshold = len(var)*0.01\n",
    "        # replace NA values with 'missing'\n",
    "        var = var.fillna('missing')\n",
    "        # get the count of times each value appears\n",
    "        counts = var.value_counts()        \n",
    "        # add values to be remapped to other if their frequency\n",
    "        # is less than the threshold\n",
    "        remapping = {}\n",
    "        for c in counts.index:\n",
    "            if counts[c] < threshold:\n",
    "                remapping[c] = 'other'\n",
    "                \n",
    "        # if some values need to be grouped into other do so\n",
    "        if len(remapping) > 0:\n",
    "            return var.map(lambda x: remapping[x] if x in remapping else x)\n",
    "        \n",
    "        return var\n",
    "    \n",
    "    # quantitative variables            \n",
    "    else:\n",
    "        missing = pd.isnull(var)\n",
    "        # check to see if a large number of values are missing\n",
    "        df = pd.DataFrame(pd.isnull(var),\n",
    "                          columns = [name + '_missing'])\n",
    "        \n",
    "        \n",
    "preprocess(df['Var229'], 'Var229')        "
   ]
  },
  {
   "cell_type": "code",
   "execution_count": null,
   "metadata": {
    "collapsed": true
   },
   "outputs": [],
   "source": []
  },
  {
   "cell_type": "code",
   "execution_count": 11,
   "metadata": {
    "collapsed": false
   },
   "outputs": [
    {
     "name": "stdout",
     "output_type": "stream",
     "text": [
      "             Var1         Var2           Var3         Var4            Var5  \\\n",
      "count  702.000000  1241.000000    1240.000000  1579.000000     1487.000000   \n",
      "mean    11.487179     0.004029     425.298387     0.125396   238793.328850   \n",
      "std     40.709951     0.141933    4270.193518     1.275481   644125.905205   \n",
      "min      0.000000     0.000000       0.000000     0.000000        0.000000   \n",
      "25%      0.000000     0.000000       0.000000     0.000000        0.000000   \n",
      "50%      0.000000     0.000000       0.000000     0.000000        0.000000   \n",
      "75%     16.000000     0.000000       0.000000     0.000000   118742.500000   \n",
      "max    680.000000     5.000000  130668.000000    27.000000  6048550.000000   \n",
      "\n",
      "                Var6          Var7  Var8         Var9            Var10  \\\n",
      "count   44471.000000  44461.000000     0   702.000000      1487.000000   \n",
      "mean     1326.437116      6.809496   NaN    48.145299    392605.656355   \n",
      "std      2685.693668      6.326053   NaN   154.777855    928089.603543   \n",
      "min         0.000000      0.000000   NaN     0.000000         0.000000   \n",
      "25%       518.000000      0.000000   NaN     4.000000         0.000000   \n",
      "50%       861.000000      7.000000   NaN    20.000000         0.000000   \n",
      "75%      1428.000000      7.000000   NaN    46.000000    262863.000000   \n",
      "max    131761.000000    140.000000   NaN  2300.000000  12325590.000000   \n",
      "\n",
      "        ...            Var183       Var184  Var185      Var186     Var187  \\\n",
      "count   ...       1241.000000  1241.000000       0  702.000000  702.00000   \n",
      "mean    ...      77773.795326     8.460919     NaN    3.299145   16.54416   \n",
      "std     ...     201618.768217    46.973777     NaN    8.781967   60.22303   \n",
      "min     ...          0.000000     0.000000     NaN    0.000000    0.00000   \n",
      "25%     ...          0.000000     0.000000     NaN    0.000000    0.00000   \n",
      "50%     ...          0.000000     0.000000     NaN    0.000000    4.00000   \n",
      "75%     ...      48810.000000     8.000000     NaN    6.000000   14.00000   \n",
      "max     ...    3048400.000000  1200.000000     NaN  102.000000  910.00000   \n",
      "\n",
      "            Var188        Var189         Var190  Var209  Var230  \n",
      "count  1241.000000  21022.000000     333.000000       0       0  \n",
      "mean    167.368477    270.142137   22007.045192     NaN     NaN  \n",
      "std     113.980072     86.707692   29085.146490     NaN     NaN  \n",
      "min      -6.420000      6.000000       0.000000     NaN     NaN  \n",
      "25%      19.380000    204.000000    2732.670000     NaN     NaN  \n",
      "50%     197.640000    270.000000   12668.940000     NaN     NaN  \n",
      "75%     252.960000    330.000000   29396.340000     NaN     NaN  \n",
      "max     628.620000    642.000000  230427.000000     NaN     NaN  \n",
      "\n",
      "[8 rows x 192 columns]\n"
     ]
    }
   ],
   "source": [
    "print df.describe()"
   ]
  }
 ],
 "metadata": {
  "kernelspec": {
   "display_name": "Python 2",
   "language": "python",
   "name": "python2"
  },
  "language_info": {
   "codemirror_mode": {
    "name": "ipython",
    "version": 2
   },
   "file_extension": ".py",
   "mimetype": "text/x-python",
   "name": "python",
   "nbconvert_exporter": "python",
   "pygments_lexer": "ipython2",
   "version": "2.7.9"
  }
 },
 "nbformat": 4,
 "nbformat_minor": 0
}
